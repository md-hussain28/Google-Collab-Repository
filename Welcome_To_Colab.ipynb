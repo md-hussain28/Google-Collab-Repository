{
  "cells": [
    {
      "cell_type": "markdown",
      "metadata": {
        "id": "view-in-github",
        "colab_type": "text"
      },
      "source": [
        "<a href=\"https://colab.research.google.com/github/md-hussain28/Google-Collab-Repository/blob/main/Welcome_To_Colab.ipynb\" target=\"_parent\"><img src=\"https://colab.research.google.com/assets/colab-badge.svg\" alt=\"Open In Colab\"/></a>"
      ]
    },
    {
      "cell_type": "markdown",
      "source": [
        "# Topic 1: Intro to Python"
      ],
      "metadata": {
        "id": "4PjGU6Ejjpk5"
      }
    },
    {
      "cell_type": "markdown",
      "source": [
        "First Program"
      ],
      "metadata": {
        "id": "frCTwWyVfxeY"
      }
    },
    {
      "cell_type": "code",
      "source": [
        "print(\"hello\")"
      ],
      "metadata": {
        "id": "gtKdtzq3fXuW",
        "outputId": "aa828781-4905-404b-8d44-c710dbf7b12e",
        "colab": {
          "base_uri": "https://localhost:8080/"
        }
      },
      "execution_count": 3,
      "outputs": [
        {
          "output_type": "stream",
          "name": "stdout",
          "text": [
            "hello\n"
          ]
        }
      ]
    },
    {
      "cell_type": "markdown",
      "source": [
        "Variables in Python"
      ],
      "metadata": {
        "id": "J8oiUfoIf4ML"
      }
    },
    {
      "cell_type": "code",
      "source": [
        "a=20; b=30; c=a+b; print(c)"
      ],
      "metadata": {
        "id": "fd7NoyxUf3L1",
        "outputId": "c2f41f06-8a56-4f92-d85f-9870674e31da",
        "colab": {
          "base_uri": "https://localhost:8080/"
        }
      },
      "execution_count": 4,
      "outputs": [
        {
          "output_type": "stream",
          "name": "stdout",
          "text": [
            "50\n"
          ]
        }
      ]
    },
    {
      "cell_type": "markdown",
      "source": [
        "Data Types in Python"
      ],
      "metadata": {
        "id": "41YuWv6ofoJf"
      }
    },
    {
      "cell_type": "code",
      "source": [
        "a=30; print(type(a))\n",
        "b=30.5; print(type(b))\n",
        "c=\"hello\"; print(type(c))\n",
        "d=True; print(type(d))"
      ],
      "metadata": {
        "id": "R9vrfxEIfuKr",
        "outputId": "642ff442-f180-4e0a-a960-3550809ae0e0",
        "colab": {
          "base_uri": "https://localhost:8080/"
        }
      },
      "execution_count": 6,
      "outputs": [
        {
          "output_type": "stream",
          "name": "stdout",
          "text": [
            "<class 'int'>\n",
            "<class 'float'>\n",
            "<class 'str'>\n",
            "<class 'bool'>\n"
          ]
        }
      ]
    },
    {
      "cell_type": "markdown",
      "source": [
        "Python Numbers"
      ],
      "metadata": {
        "id": "V_Io8gubgtCP"
      }
    },
    {
      "cell_type": "code",
      "source": [
        "a=10; print(id(a))\n",
        "b=10; print(id(b))\n",
        "e=5; print(id(e))\n",
        "c=257; print(id(c))\n",
        "d=257; print(id(d))\n",
        "e+=5; print(id(e))  #Same Memory location for [5-256]\n",
        "a=a+10; print(id(a))"
      ],
      "metadata": {
        "id": "Xzjsqa-ggsxj",
        "outputId": "3e107b66-c767-4607-d55f-99daa57be301",
        "colab": {
          "base_uri": "https://localhost:8080/"
        }
      },
      "execution_count": 11,
      "outputs": [
        {
          "output_type": "stream",
          "name": "stdout",
          "text": [
            "138731686068752\n",
            "138731686068752\n",
            "138731686068592\n",
            "138731253227152\n",
            "138730402982128\n",
            "138731686068752\n",
            "138731686069072\n"
          ]
        }
      ]
    },
    {
      "cell_type": "markdown",
      "source": [
        "Limit of integers"
      ],
      "metadata": {
        "id": "C0QrcbKgh04W"
      }
    },
    {
      "cell_type": "code",
      "source": [
        "a=922337203685477580767768; print(a) #Any large as they allow you to have the memory"
      ],
      "metadata": {
        "id": "uTYWu4QHgpnV",
        "outputId": "3af9f1ce-35d0-4a85-af4e-b8e6c2324d24",
        "colab": {
          "base_uri": "https://localhost:8080/"
        }
      },
      "execution_count": 13,
      "outputs": [
        {
          "output_type": "stream",
          "name": "stdout",
          "text": [
            "9223372036854775807\n",
            "922337203685477580767768\n"
          ]
        }
      ]
    },
    {
      "cell_type": "markdown",
      "source": [
        "Arithmatic operator"
      ],
      "metadata": {
        "id": "IoWl3f5BiY43"
      }
    },
    {
      "cell_type": "code",
      "source": [
        "a=20; b=6;\n",
        "print(a+b)\n",
        "print(a-b)\n",
        "print(a*b)\n",
        "print(a/b)\n",
        "print(a//b) #Integer Division\n",
        "print(a%b)\n",
        "print(a**b)"
      ],
      "metadata": {
        "id": "yJHmovgaiYSv",
        "outputId": "25ee87fe-bd69-4e92-a3ea-43f2c2c966c5",
        "colab": {
          "base_uri": "https://localhost:8080/"
        }
      },
      "execution_count": 14,
      "outputs": [
        {
          "output_type": "stream",
          "name": "stdout",
          "text": [
            "26\n",
            "14\n",
            "120\n",
            "3.3333333333333335\n",
            "3\n",
            "2\n",
            "64000000\n"
          ]
        }
      ]
    },
    {
      "cell_type": "markdown",
      "source": [
        "Taking Inputs"
      ],
      "metadata": {
        "id": "EfpZRWoei4uZ"
      }
    },
    {
      "cell_type": "code",
      "source": [
        "a=input(\"Enter a number\")\n",
        "print(a)\n",
        "print(type(a))#initially type taken as string\n",
        "a=float(a)\n",
        "print(a)\n",
        "print(type(a))#converted to int"
      ],
      "metadata": {
        "id": "HEs_lgTHi7DR",
        "outputId": "c6735212-2fcf-4e7b-83dc-245adcca79a7",
        "colab": {
          "base_uri": "https://localhost:8080/"
        }
      },
      "execution_count": 17,
      "outputs": [
        {
          "output_type": "stream",
          "name": "stdout",
          "text": [
            "Enter a number354\n",
            "354\n",
            "<class 'str'>\n",
            "354.0\n",
            "<class 'float'>\n"
          ]
        }
      ]
    },
    {
      "cell_type": "markdown",
      "source": [
        "# Topic 2: Condition and Loops"
      ],
      "metadata": {
        "id": "VsmU_V47jxPN"
      }
    },
    {
      "cell_type": "markdown",
      "source": [
        "Boolean Data Type"
      ],
      "metadata": {
        "id": "mmzXadvaj9nl"
      }
    },
    {
      "cell_type": "code",
      "source": [
        "a=True; print(type(a))"
      ],
      "metadata": {
        "id": "FQV_Mq_cj2n0",
        "outputId": "61aeda64-ab28-44a7-a600-167a828c5163",
        "colab": {
          "base_uri": "https://localhost:8080/"
        }
      },
      "execution_count": 18,
      "outputs": [
        {
          "output_type": "stream",
          "name": "stdout",
          "text": [
            "<class 'bool'>\n"
          ]
        }
      ]
    },
    {
      "cell_type": "markdown",
      "source": [
        "Relational Operators"
      ],
      "metadata": {
        "id": "Wqqy15JxkVh1"
      }
    },
    {
      "cell_type": "code",
      "source": [
        "a=10; b=20;\n",
        "print(a==b)\n",
        "print(a!=b)\n",
        "print(a>b)\n",
        "print(a<b)\n",
        "print(a>=b)\n",
        "print(a<=b)"
      ],
      "metadata": {
        "id": "Fsw34CRSkZdq",
        "outputId": "f7f0b18d-2a7b-4bf8-dc83-f44a75b1560b",
        "colab": {
          "base_uri": "https://localhost:8080/"
        }
      },
      "execution_count": 19,
      "outputs": [
        {
          "output_type": "stream",
          "name": "stdout",
          "text": [
            "False\n",
            "True\n",
            "False\n",
            "True\n",
            "False\n",
            "True\n"
          ]
        }
      ]
    },
    {
      "cell_type": "markdown",
      "source": [
        "Logical Operator"
      ],
      "metadata": {
        "id": "TKU4zdrfkg9s"
      }
    },
    {
      "cell_type": "code",
      "source": [
        "c=True; d=False;\n",
        "print(c and d)\n",
        "print(c or d)\n",
        "print(not c)"
      ],
      "metadata": {
        "id": "tspQECTikjYY",
        "outputId": "5275e741-d328-433c-a30e-01c779d04f99",
        "colab": {
          "base_uri": "https://localhost:8080/"
        }
      },
      "execution_count": 20,
      "outputs": [
        {
          "output_type": "stream",
          "name": "stdout",
          "text": [
            "False\n",
            "True\n",
            "False\n"
          ]
        }
      ]
    },
    {
      "cell_type": "markdown",
      "source": [
        "If-Else Conditions"
      ],
      "metadata": {
        "id": "7Kou1zxmk1RB"
      }
    },
    {
      "cell_type": "code",
      "source": [
        "if(a>b): #Indentation is important\n",
        "  print(\"a greater than b\")\n",
        "else:\n",
        "  print(\"b greater than a\")"
      ],
      "metadata": {
        "id": "ayqz7Bzmk76Z",
        "outputId": "9f36d286-9065-4fe5-c341-3c494004f8b1",
        "colab": {
          "base_uri": "https://localhost:8080/"
        }
      },
      "execution_count": 22,
      "outputs": [
        {
          "output_type": "stream",
          "name": "stdout",
          "text": [
            "b greater than a\n"
          ]
        }
      ]
    },
    {
      "cell_type": "markdown",
      "source": [
        "Using Relational Operator"
      ],
      "metadata": {
        "id": "MtyIznYYln-g"
      }
    },
    {
      "cell_type": "code",
      "source": [
        "if(a==b):\n",
        " print(\"a equal to b\")\n",
        "elif(a>b):\n",
        " print(\"a greater than b\")\n",
        "else:\n",
        " print(\"b greater than a\")"
      ],
      "metadata": {
        "id": "hMbZICEcluZy",
        "outputId": "0ccb9202-56e8-4895-93bd-f1d793b18aae",
        "colab": {
          "base_uri": "https://localhost:8080/"
        }
      },
      "execution_count": 25,
      "outputs": [
        {
          "output_type": "stream",
          "name": "stdout",
          "text": [
            "b greater than a\n"
          ]
        }
      ]
    },
    {
      "cell_type": "markdown",
      "source": [
        "Nested Condition"
      ],
      "metadata": {
        "id": "jOAmG9YGmStc"
      }
    },
    {
      "cell_type": "code",
      "source": [
        "if(a%2==0):\n",
        "  if(a==0):\n",
        "    print(\"a is zero\")\n",
        "  else:\n",
        "    print(\"a is even\")\n",
        "else:\n",
        "  print(\"a is odd\")"
      ],
      "metadata": {
        "id": "YD2ceRwEmVUJ",
        "outputId": "dcf90cf8-5fb6-473b-f5ef-bd33f05d39f0",
        "colab": {
          "base_uri": "https://localhost:8080/"
        }
      },
      "execution_count": 26,
      "outputs": [
        {
          "output_type": "stream",
          "name": "stdout",
          "text": [
            "a is even\n"
          ]
        }
      ]
    },
    {
      "cell_type": "markdown",
      "source": [
        "While Loop"
      ],
      "metadata": {
        "id": "rgBl5oiInH2c"
      }
    },
    {
      "cell_type": "code",
      "source": [
        "a=0\n",
        "while(a<10):\n",
        "    print(a);\n",
        "    a+=1;\n",
        "\n"
      ],
      "metadata": {
        "id": "qwD2fu8znKxC",
        "outputId": "a71d38f4-4d65-4f31-9d77-33c7263aa66c",
        "colab": {
          "base_uri": "https://localhost:8080/"
        }
      },
      "execution_count": 27,
      "outputs": [
        {
          "output_type": "stream",
          "name": "stdout",
          "text": [
            "0\n",
            "1\n",
            "2\n",
            "3\n",
            "4\n",
            "5\n",
            "6\n",
            "7\n",
            "8\n",
            "9\n"
          ]
        }
      ]
    },
    {
      "cell_type": "markdown",
      "source": [
        "Primality Checking"
      ],
      "metadata": {
        "id": "JjA6S5o5ntmg"
      }
    },
    {
      "cell_type": "code",
      "source": [],
      "metadata": {
        "id": "dhiQ1udknwTy"
      },
      "execution_count": null,
      "outputs": []
    },
    {
      "cell_type": "markdown",
      "source": [
        "# Topic 3: Patterns"
      ],
      "metadata": {
        "id": "e2009zHLoOLX"
      }
    },
    {
      "cell_type": "code",
      "source": [
        "n=int(input(\"Enter a number\"));\n",
        "a=n;\n",
        "while(a>0):\n",
        "  b=n;\n",
        "  while(b>0):\n",
        "    print(\"*\",end=\" \");\n",
        "    b-=1;\n",
        "  print();\n",
        "  a-=1;\n"
      ],
      "metadata": {
        "id": "njdCbbpjoVL4",
        "outputId": "98bc8198-0e4a-4c66-b33b-efd0620fddd3",
        "colab": {
          "base_uri": "https://localhost:8080/"
        }
      },
      "execution_count": 29,
      "outputs": [
        {
          "output_type": "stream",
          "name": "stdout",
          "text": [
            "Enter a number8\n",
            "* * * * * * * * \n",
            "* * * * * * * * \n",
            "* * * * * * * * \n",
            "* * * * * * * * \n",
            "* * * * * * * * \n",
            "* * * * * * * * \n",
            "* * * * * * * * \n",
            "* * * * * * * * \n"
          ]
        }
      ]
    },
    {
      "cell_type": "markdown",
      "source": [
        "# Topic 4: More on Loops"
      ],
      "metadata": {
        "id": "djT6ne1gwEGi"
      }
    },
    {
      "cell_type": "markdown",
      "source": [
        "For Loop and Range Methods"
      ],
      "metadata": {
        "id": "pw5sB7G7w07y"
      }
    },
    {
      "cell_type": "code",
      "source": [
        "x=\"3453453523535\";\n",
        "for i in x:\n",
        "  print(i);\n",
        "for i in range(0,10,2):\n",
        "  print(i);"
      ],
      "metadata": {
        "id": "p4DmpOLOwN9E",
        "outputId": "661fd3a3-e228-4a59-de6b-d7d97deded42",
        "colab": {
          "base_uri": "https://localhost:8080/"
        }
      },
      "execution_count": 31,
      "outputs": [
        {
          "output_type": "stream",
          "name": "stdout",
          "text": [
            "3\n",
            "4\n",
            "5\n",
            "3\n",
            "4\n",
            "5\n",
            "3\n",
            "5\n",
            "2\n",
            "3\n",
            "5\n",
            "3\n",
            "5\n",
            "0\n",
            "2\n",
            "4\n",
            "6\n",
            "8\n"
          ]
        }
      ]
    }
  ],
  "metadata": {
    "colab": {
      "name": "Welcome To Colab",
      "provenance": [],
      "include_colab_link": true
    },
    "kernelspec": {
      "display_name": "Python 3",
      "name": "python3"
    }
  },
  "nbformat": 4,
  "nbformat_minor": 0
}